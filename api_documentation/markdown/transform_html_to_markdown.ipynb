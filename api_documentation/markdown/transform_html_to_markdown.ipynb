{
 "cells": [
  {
   "cell_type": "code",
   "execution_count": null,
   "id": "ad64ccbe",
   "metadata": {},
   "outputs": [],
   "source": [
    "# !pip install markdownify bs4\n"
   ]
  },
  {
   "cell_type": "code",
   "execution_count": 1,
   "id": "811283c6",
   "metadata": {},
   "outputs": [],
   "source": [
    "from bs4 import BeautifulSoup\n",
    "from markdownify import markdownify as md\n",
    "from pathlib import Path\n",
    "import os\n",
    "import re"
   ]
  },
  {
   "cell_type": "code",
   "execution_count": 2,
   "id": "45e594a1",
   "metadata": {},
   "outputs": [],
   "source": [
    "def convert_line(line: str) -> str:\n",
    "    # Detect indentation\n",
    "    m       = re.match(r'^((?:\\t| {4})+)', line)\n",
    "    indent  = m.group(0) if m else ''\n",
    "    level   = indent.count('\\t') + len(re.findall(r'(?: {4})', indent))\n",
    "    text    = line[len(indent):].lstrip()\n",
    "\n",
    "    # delete indeed\n",
    "    if level == 0:\n",
    "        return text\n",
    "\n",
    "    # delete indeed and :\n",
    "    if text.startswith(':'):\n",
    "        return text[1:].lstrip()\n",
    "\n",
    "    # Add titles\n",
    "    if level == 1:\n",
    "        return f\"## {text}\"\n",
    "\n",
    "    # More than 1 indeed\n",
    "    if any(text.startswith(k) for k in KEYWORDS):\n",
    "        header_level = min(level + 2, 6)\n",
    "        return f\"{'#' * header_level} {text}\"\n",
    "    else:\n",
    "        # Other text to bullet points\n",
    "        return f\"- {text}\""
   ]
  },
  {
   "cell_type": "code",
   "execution_count": 4,
   "id": "2aab64db",
   "metadata": {},
   "outputs": [
    {
     "name": "stdout",
     "output_type": "stream",
     "text": [
      "Created for: search!\n",
      "Created for: modules!\n",
      "Created for: phitter.simulation!\n",
      "Created for: phitter.simulation.own_distribution!\n",
      "Created for: phitter.discrete!\n",
      "Created for: phitter!\n",
      "Created for: genindex!\n",
      "Created for: phitter.simulation.queueing_simulation!\n",
      "Created for: index!\n",
      "Created for: phitter.discrete.discrete_statistical_tests!\n",
      "Created for: phitter.discrete.discrete_measures!\n",
      "Created for: phitter.continuous!\n",
      "Created for: py-modindex!\n",
      "Created for: phitter.continuous.continuous_distributions!\n",
      "Created for: phitter.discrete.discrete_distributions!\n",
      "Created for: phitter.continuous.continuous_statistical_tests!\n",
      "Created for: phitter.simulation.process_simulation!\n",
      "Created for: phitter.continuous.continuous_measures!\n"
     ]
    }
   ],
   "source": [
    "folder_path = \"../_build/html\"\n",
    "html_files = [f for f in os.listdir(folder_path) if f.endswith('.html')]\n",
    "for html_file in html_files:\n",
    "    HTML = f\"\"\"../_build/html/{html_file.split(\".html\")[0]}.html\"\"\"\n",
    "    MD   = f\"\"\"{html_file.split(\".html\")[0]}.md\"\"\"\n",
    "\n",
    "    # ---------- 1) HTML → Markdown ----------\n",
    "    html = Path(HTML).read_text(encoding=\"utf‑8\")\n",
    "    soup = BeautifulSoup(html, \"html.parser\")\n",
    "\n",
    "    # delete :\n",
    "    for span in soup.select(\"span.colon\"):\n",
    "        span.decompose()\n",
    "\n",
    "    main_html = str(soup.select_one(\"div.rst-content\"))\n",
    "\n",
    "    md_text = md(\n",
    "        main_html,\n",
    "        strip=['script', 'style', 'footer', 'form', 'link', 'nav'],\n",
    "        heading_style=\"ATX\"\n",
    "    )\n",
    "\n",
    "\n",
    "    KEYWORDS = {\"Parameters\", \"Returns\", \"Return type\"}\n",
    "\n",
    "    md_clean = \"\\n\".join(convert_line(l) for l in md_text.splitlines())\n",
    "    md_clean = re.sub(r'\\[\\\\]\\([^)]+\\)', '', md_clean)\n",
    "    Path(MD).write_text(md_clean, encoding=\"utf‑8\")\n",
    "    print(f\"\"\"Created for: {html_file.split(\".html\")[0]}!\"\"\")"
   ]
  }
 ],
 "metadata": {
  "kernelspec": {
   "display_name": "Python 3",
   "language": "python",
   "name": "python3"
  },
  "language_info": {
   "codemirror_mode": {
    "name": "ipython",
    "version": 3
   },
   "file_extension": ".py",
   "mimetype": "text/x-python",
   "name": "python",
   "nbconvert_exporter": "python",
   "pygments_lexer": "ipython3",
   "version": "3.10.12"
  }
 },
 "nbformat": 4,
 "nbformat_minor": 5
}
